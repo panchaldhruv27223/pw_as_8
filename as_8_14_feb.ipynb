{
 "cells": [
  {
   "cell_type": "markdown",
   "id": "dfd304e3",
   "metadata": {},
   "source": [
    "Q 1. what is multithreading in python? why is it used? Name the module used to handle threads in python."
   ]
  },
  {
   "cell_type": "code",
   "execution_count": 2,
   "id": "80ad1c4c",
   "metadata": {},
   "outputs": [],
   "source": [
    "#  multithreading in python means multiple threads are runing in one process.\n",
    "\n",
    "#  thread is light weight process.\n",
    "#  multithreading is used to utilize resources\n",
    "#  it save time due to run multiple thread at the same time.\n",
    "\n",
    "# there are two modules used in the thread :\n",
    "#     thread module \n",
    "#     threading module"
   ]
  },
  {
   "cell_type": "markdown",
   "id": "b252673f",
   "metadata": {},
   "source": [
    "Q 2. why threading module used? write the use of the following functions :\n",
    "\n",
    "    -activeCount()\n",
    "    -currentThread()\n",
    "    -enumerate()"
   ]
  },
  {
   "cell_type": "code",
   "execution_count": null,
   "id": "ae79e658",
   "metadata": {},
   "outputs": [],
   "source": [
    "#  threading module used to create thread. \n",
    "#  it give high level support to create thread and it is very simple just import threading module and use it\n",
    "#  threading have some function like :\n",
    "import threading\n",
    "\n",
    "threading.active_count() :- Return the number of Thread objects currently alive.\n",
    "threading.current_thread() :- You can use it to determine the number of thread objects in the caller’s thread control.\n",
    "threading.enumerate() :- Return a list of all Thread objects currently alive."
   ]
  },
  {
   "cell_type": "code",
   "execution_count": 91,
   "id": "6d4beebe",
   "metadata": {},
   "outputs": [],
   "source": [
    "import threading\n",
    "\n",
    "def sq(n):\n",
    "    l=[]\n",
    "    l.append(n**2)\n",
    "    print(l)\n",
    "    \n",
    "def sq1(n):\n",
    "    l = []\n",
    "    for i in n :\n",
    "        l.append(i**2)\n",
    "    print(l)\n",
    "    \n",
    "def cub(n):\n",
    "    l=[]\n",
    "    for i in n :\n",
    "        l.append(i**3)\n",
    "    print(l)\n"
   ]
  },
  {
   "cell_type": "code",
   "execution_count": 92,
   "id": "c6909c04",
   "metadata": {},
   "outputs": [],
   "source": [
    "thr = [threading.Thread(target=sq,args=(i,)) for i in range(5)]\n",
    "arr=[1,2,3,4,5]\n",
    "thr1 = [threading.Thread(target=sq1,args=(arr,))]\n",
    "\n",
    "thr2 = [threading.Thread(target=cub , args=(arr,))]"
   ]
  },
  {
   "cell_type": "code",
   "execution_count": 60,
   "id": "35610385",
   "metadata": {},
   "outputs": [
    {
     "name": "stdout",
     "output_type": "stream",
     "text": [
      "[0]\n",
      "[1]\n",
      "[4]\n",
      "[9]\n",
      "[16]\n"
     ]
    }
   ],
   "source": [
    "for t in thr:\n",
    "    t.start()"
   ]
  },
  {
   "cell_type": "code",
   "execution_count": 61,
   "id": "553ac27e",
   "metadata": {},
   "outputs": [
    {
     "name": "stdout",
     "output_type": "stream",
     "text": [
      "[1, 4, 9, 16, 25]\n"
     ]
    }
   ],
   "source": [
    "for i in thr1:\n",
    "    i.start()"
   ]
  },
  {
   "cell_type": "code",
   "execution_count": 62,
   "id": "bc05f767",
   "metadata": {},
   "outputs": [
    {
     "name": "stdout",
     "output_type": "stream",
     "text": [
      "[1, 8, 27, 64, 125]\n"
     ]
    }
   ],
   "source": [
    "for i in thr2:\n",
    "    i.start()"
   ]
  },
  {
   "cell_type": "code",
   "execution_count": 63,
   "id": "e29154a7",
   "metadata": {},
   "outputs": [
    {
     "data": {
      "text/plain": [
       "6"
      ]
     },
     "execution_count": 63,
     "metadata": {},
     "output_type": "execute_result"
    }
   ],
   "source": [
    "threading.active_count()"
   ]
  },
  {
   "cell_type": "code",
   "execution_count": 64,
   "id": "d44ec1ac",
   "metadata": {},
   "outputs": [
    {
     "data": {
      "text/plain": [
       "<_MainThread(MainThread, started 20976)>"
      ]
     },
     "execution_count": 64,
     "metadata": {},
     "output_type": "execute_result"
    }
   ],
   "source": [
    "threading.current_thread()"
   ]
  },
  {
   "cell_type": "code",
   "execution_count": 65,
   "id": "3c8d9b5e",
   "metadata": {},
   "outputs": [
    {
     "data": {
      "text/plain": [
       "[<_MainThread(MainThread, started 20976)>,\n",
       " <Thread(IOPub, started daemon 21688)>,\n",
       " <Heartbeat(Heartbeat, started daemon 12296)>,\n",
       " <ControlThread(Control, started daemon 10728)>,\n",
       " <HistorySavingThread(IPythonHistorySavingThread, started 15676)>,\n",
       " <ParentPollerWindows(Thread-4, started daemon 16020)>]"
      ]
     },
     "execution_count": 65,
     "metadata": {},
     "output_type": "execute_result"
    }
   ],
   "source": [
    "threading.enumerate()"
   ]
  },
  {
   "cell_type": "markdown",
   "id": "c84e89a4",
   "metadata": {},
   "source": [
    "3. Explain the following functions:\n",
    "    run()\n",
    "    start()\n",
    "    join()\n",
    "    isAlive()"
   ]
  },
  {
   "cell_type": "code",
   "execution_count": null,
   "id": "f8266ccf",
   "metadata": {},
   "outputs": [],
   "source": [
    "run()− The run() method is the entry point for a thread.\n",
    "start()− The start() method starts a thread by calling the run method.\n",
    "join()− The join() waits for threads to terminate.\n",
    "is_alive()− The is_alive() method checks whether a thread is still executing."
   ]
  },
  {
   "cell_type": "code",
   "execution_count": 88,
   "id": "414ff2cb",
   "metadata": {},
   "outputs": [
    {
     "name": "stdout",
     "output_type": "stream",
     "text": [
      "[1, 8, 27, 64, 125]True\n",
      "\n"
     ]
    }
   ],
   "source": [
    "# EX   if we check \n",
    "for i in thr2:\n",
    "    i.start()\n",
    "    print(i.is_alive())"
   ]
  },
  {
   "cell_type": "code",
   "execution_count": 93,
   "id": "64687f9d",
   "metadata": {},
   "outputs": [
    {
     "name": "stdout",
     "output_type": "stream",
     "text": [
      "[1, 4, 9, 16, 25]\n"
     ]
    }
   ],
   "source": [
    "for i in thr1:\n",
    "    i.start()\n",
    "    i.join()"
   ]
  },
  {
   "cell_type": "code",
   "execution_count": 94,
   "id": "ddd8d6bf",
   "metadata": {},
   "outputs": [
    {
     "name": "stdout",
     "output_type": "stream",
     "text": [
      "[0]\n",
      "[1]\n",
      "[4]\n",
      "[9]\n",
      "[16]\n"
     ]
    }
   ],
   "source": [
    "for i in thr:\n",
    "    i.run()"
   ]
  },
  {
   "cell_type": "code",
   "execution_count": null,
   "id": "e625ba92",
   "metadata": {},
   "outputs": [],
   "source": []
  },
  {
   "cell_type": "markdown",
   "id": "51a16428",
   "metadata": {},
   "source": [
    "Q 4. write a python program to create two threads. Thread one must print the list of squares and thread \n",
    "two must print the list of cubes."
   ]
  },
  {
   "cell_type": "code",
   "execution_count": 95,
   "id": "a31b8f41",
   "metadata": {},
   "outputs": [],
   "source": [
    "import threading\n",
    "\n",
    "def sq(n):\n",
    "    l=[]\n",
    "    l.append(n**2)\n",
    "    print(l)\n",
    "    \n",
    "def sq1(n):\n",
    "    l = []\n",
    "    for i in n :\n",
    "        l.append(i**2)\n",
    "    print(l)\n",
    "    \n",
    "def cub(n):\n",
    "    l=[]\n",
    "    for i in n :\n",
    "        l.append(i**3)\n",
    "    print(l)\n",
    "\n",
    "    \n",
    "thr = [threading.Thread(target=sq,args=(i,)) for i in range(5)]\n",
    "arr=[1,2,3,4,5]\n",
    "thr1 = [threading.Thread(target=sq1,args=(arr,))]\n",
    "\n",
    "thr2 = [threading.Thread(target=cub , args=(arr,))]"
   ]
  },
  {
   "cell_type": "code",
   "execution_count": 96,
   "id": "71680e88",
   "metadata": {},
   "outputs": [
    {
     "name": "stdout",
     "output_type": "stream",
     "text": [
      "[1, 8, 27, 64, 125]\n"
     ]
    }
   ],
   "source": [
    "for i in thr2:\n",
    "    i.start()"
   ]
  },
  {
   "cell_type": "code",
   "execution_count": 97,
   "id": "cc93123f",
   "metadata": {},
   "outputs": [
    {
     "name": "stdout",
     "output_type": "stream",
     "text": [
      "[1, 4, 9, 16, 25]\n"
     ]
    }
   ],
   "source": [
    "for i in thr1:\n",
    "    i.start()"
   ]
  },
  {
   "cell_type": "code",
   "execution_count": 98,
   "id": "9cba674d",
   "metadata": {},
   "outputs": [
    {
     "name": "stdout",
     "output_type": "stream",
     "text": [
      "[0][1]\n",
      "\n",
      "[4]\n",
      "[9]\n",
      "[16]\n"
     ]
    }
   ],
   "source": [
    "for t in thr:\n",
    "    t.start()"
   ]
  },
  {
   "cell_type": "markdown",
   "id": "d131138e",
   "metadata": {},
   "source": [
    "Q 5. State advantages and disadvantages of multithreading"
   ]
  },
  {
   "cell_type": "code",
   "execution_count": null,
   "id": "f3bd6c31",
   "metadata": {},
   "outputs": [],
   "source": [
    "advantages :\n",
    "    it utilize computer resources\n",
    "    it make process fast \n",
    "    it take less memory\n",
    "    it take less time \n",
    "    it is more responsive \n",
    "    at one time we can use multiple aplication or we can say we use multiple thread\n",
    "    scalability\n",
    "\n",
    "disadvantages :\n",
    "    difficulty in writing a code \n",
    "    difficulty in debugging\n",
    "    difficulty in testing \n",
    "    it need  support for thread or process\n",
    "    context switching overhead\n",
    "    "
   ]
  },
  {
   "cell_type": "markdown",
   "id": "7bbd56d4",
   "metadata": {},
   "source": [
    "Q 6. Explain deadlocks and race conditions"
   ]
  },
  {
   "cell_type": "code",
   "execution_count": null,
   "id": "0978cea5",
   "metadata": {},
   "outputs": [],
   "source": [
    "deadlocks:\n",
    "    it is a situation in which two or more thread are indirectly or directly waiting for each other resources.\n",
    "    for ex , there are two thread t1 and t2. t1 have r1 resource and t2 have r2 resource , now t1 need r2 resource to complete its task\n",
    "             at the other side t2 have r2 resource and it need r1 resource to complete his task. both thread t1 and t2 are waiting for each other\n",
    "             resources. and at the end of the day nither of them will be abel to complete a task.\n",
    "\n",
    "race condition :\n",
    "    it is a condition when two or more then two thread are at the same time use same variable.\n",
    "    \n",
    "    for example, we have 10rs we have two thread both thread try to add 1rs.\n",
    "                 so we except final ans should be 12rs because both add 1rs.\n",
    "                 but because of the race condition both thread try to add 1rs at the same time.\n",
    "                 in thread shared variable value is over write so the last value enter by thread is the final value.\n",
    "                 because of this or because of the race condition we get final ans as 11rs instead of 12rs."
   ]
  }
 ],
 "metadata": {
  "kernelspec": {
   "display_name": "Python 3 (ipykernel)",
   "language": "python",
   "name": "python3"
  },
  "language_info": {
   "codemirror_mode": {
    "name": "ipython",
    "version": 3
   },
   "file_extension": ".py",
   "mimetype": "text/x-python",
   "name": "python",
   "nbconvert_exporter": "python",
   "pygments_lexer": "ipython3",
   "version": "3.9.7"
  }
 },
 "nbformat": 4,
 "nbformat_minor": 5
}
